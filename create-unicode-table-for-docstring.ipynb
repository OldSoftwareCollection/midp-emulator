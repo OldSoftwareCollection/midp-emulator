{
 "cells": [
  {
   "cell_type": "code",
   "execution_count": 1,
   "metadata": {},
   "outputs": [],
   "source": [
    "table = [\n",
    "    ('<datagram_connection_string>', '::= \"datagram://\" | \"datagram://\"<hostport>'),\n",
    "    ('<hostport>', '::= host \":\" port'),\n",
    "    ('<host>', '::= host name or IP address (omitted for inbound connections)'),\n",
    "    ('<port>', '::= numeric port number (omitted for system assigned port)'),\n",
    "]"
   ]
  },
  {
   "cell_type": "code",
   "execution_count": 2,
   "metadata": {},
   "outputs": [],
   "source": [
    "prefix = ' * '"
   ]
  },
  {
   "cell_type": "code",
   "execution_count": 3,
   "metadata": {},
   "outputs": [],
   "source": [
    "max_width_for_each_cols = []\n",
    "for row in table:\n",
    "    for col_num, cell in enumerate(row):\n",
    "        cell_lines = cell.split('\\n')\n",
    "        max_line_length = max(map(lambda x: len(x), cell_lines))\n",
    "        if not len(max_width_for_each_cols) > col_num:\n",
    "            max_width_for_each_cols.append(max_line_length)\n",
    "        else:\n",
    "            current_column_length = max_width_for_each_cols[col_num]\n",
    "            max_width_for_each_cols[col_num] = max(current_column_length, max_line_length)"
   ]
  },
  {
   "cell_type": "code",
   "execution_count": 4,
   "metadata": {},
   "outputs": [
    {
     "data": {
      "text/plain": [
       "[28, 61]"
      ]
     },
     "execution_count": 4,
     "metadata": {},
     "output_type": "execute_result"
    }
   ],
   "source": [
    "max_width_for_each_cols"
   ]
  },
  {
   "cell_type": "code",
   "execution_count": 5,
   "metadata": {},
   "outputs": [
    {
     "data": {
      "text/plain": [
       "[1, 1, 1, 1]"
      ]
     },
     "execution_count": 5,
     "metadata": {},
     "output_type": "execute_result"
    }
   ],
   "source": [
    "max_line_for_each_rows = []\n",
    "for row in table:\n",
    "    max_num_lines = max(map(lambda x: len(x.split('\\n')), row))\n",
    "    max_line_for_each_rows.append(max_num_lines)\n",
    "\n",
    "max_line_for_each_rows"
   ]
  },
  {
   "cell_type": "code",
   "execution_count": 6,
   "metadata": {},
   "outputs": [],
   "source": [
    "width_pad = '─'\n",
    "top_prefix = '┌─'\n",
    "top_suffix = '─┐'\n",
    "top_cell_sep = '─┬─'\n",
    "\n",
    "cell_prefix = '| '\n",
    "cell_suffix = ' |'\n",
    "cell_sep = ' | '\n",
    "\n",
    "row_sep_prefix = '├─'\n",
    "row_sep_suffix = '─┤'\n",
    "row_cell_sep = '─┼─'\n",
    "\n",
    "bottom_prefix = '└─'\n",
    "bottom_suffix = '─┘'\n",
    "bottom_cell_sep = '─┴─'"
   ]
  },
  {
   "cell_type": "code",
   "execution_count": 7,
   "metadata": {},
   "outputs": [
    {
     "name": "stdout",
     "output_type": "stream",
     "text": [
      "┌──────────────────────────────┬───────────────────────────────────────────────────────────────┐\n",
      "| <datagram_connection_string> | ::= \"datagram://\" | \"datagram://\"<hostport>                   |\n",
      "├──────────────────────────────┼───────────────────────────────────────────────────────────────┤\n",
      "| <hostport>                   | ::= host \":\" port                                             |\n",
      "├──────────────────────────────┼───────────────────────────────────────────────────────────────┤\n",
      "| <host>                       | ::= host name or IP address (omitted for inbound connections) |\n",
      "├──────────────────────────────┼───────────────────────────────────────────────────────────────┤\n",
      "| <port>                       | ::= numeric port number (omitted for system assigned port)    |\n",
      "└──────────────────────────────┴───────────────────────────────────────────────────────────────┘\n"
     ]
    }
   ],
   "source": [
    "unicode_table_lines = []\n",
    "\n",
    "top_line = top_prefix + top_cell_sep.join(list(map(lambda col_width: width_pad * col_width, max_width_for_each_cols))) + top_suffix\n",
    "unicode_table_lines.append(top_line)\n",
    "\n",
    "for row_idx in range(len(table)):\n",
    "    row = table[row_idx]\n",
    "    # print('row:', row)\n",
    "\n",
    "    splited_cells = [] # a table without any newline chars in cell - need to be transpose\n",
    "    for col_idx in range(len(row)):\n",
    "        cell = row[col_idx]\n",
    "        splited_cells.append([]) # append a new col\n",
    "        cell_lines = cell.split('\\n')\n",
    "\n",
    "        for i in range(max_line_for_each_rows[row_idx]):\n",
    "            if i < len(cell_lines):\n",
    "                line = cell_lines[i]\n",
    "                line = line + (' ' * (max_width_for_each_cols[col_idx] - len(line)))\n",
    "            else:\n",
    "                line = ' ' * max_width_for_each_cols[col_idx]\n",
    "            # print(repr(line))\n",
    "            splited_cells[col_idx].append(line)\n",
    "        # print(col_idx, *cell_lines)\n",
    "    # print('splited_cells:', splited_cells)\n",
    "    \n",
    "    # transpose the `splited_cells` table\n",
    "    num_cols = len(splited_cells)\n",
    "    num_rows = len(splited_cells[0])\n",
    "    \n",
    "    row_mini_table = []\n",
    "    for y in range(num_rows):\n",
    "        row_mini_table.append([])\n",
    "        for x in range(num_cols):\n",
    "            row_mini_table[y].append(splited_cells[x][y])\n",
    "    for _row in row_mini_table:\n",
    "        line = cell_sep.join(_row)\n",
    "        table_line = cell_prefix + cell_sep.join(_row) + cell_suffix\n",
    "        unicode_table_lines.append(table_line)\n",
    "\n",
    "    if row_idx < (len(table) - 1):\n",
    "        row_sep_line = row_sep_prefix + row_cell_sep.join(list(map(lambda col_width: width_pad * col_width, max_width_for_each_cols))) + row_sep_suffix\n",
    "        unicode_table_lines.append(row_sep_line)\n",
    "\n",
    "bottom_line = bottom_prefix + bottom_cell_sep.join(list(map(lambda col_width: width_pad * col_width, max_width_for_each_cols))) + bottom_suffix\n",
    "unicode_table_lines.append(bottom_line)\n",
    "\n",
    "for l in unicode_table_lines:\n",
    "    print(l)"
   ]
  },
  {
   "cell_type": "code",
   "execution_count": 8,
   "metadata": {},
   "outputs": [
    {
     "name": "stdout",
     "output_type": "stream",
     "text": [
      " * ┌──────────────────────────────┬───────────────────────────────────────────────────────────────┐\n",
      " * | <datagram_connection_string> | ::= \"datagram://\" | \"datagram://\"<hostport>                   |\n",
      " * ├──────────────────────────────┼───────────────────────────────────────────────────────────────┤\n",
      " * | <hostport>                   | ::= host \":\" port                                             |\n",
      " * ├──────────────────────────────┼───────────────────────────────────────────────────────────────┤\n",
      " * | <host>                       | ::= host name or IP address (omitted for inbound connections) |\n",
      " * ├──────────────────────────────┼───────────────────────────────────────────────────────────────┤\n",
      " * | <port>                       | ::= numeric port number (omitted for system assigned port)    |\n",
      " * └──────────────────────────────┴───────────────────────────────────────────────────────────────┘\n"
     ]
    }
   ],
   "source": [
    "for l in unicode_table_lines:\n",
    "    print(prefix + l)"
   ]
  }
 ],
 "metadata": {
  "kernelspec": {
   "display_name": "Python 3",
   "language": "python",
   "name": "python3"
  },
  "language_info": {
   "codemirror_mode": {
    "name": "ipython",
    "version": 3
   },
   "file_extension": ".py",
   "mimetype": "text/x-python",
   "name": "python",
   "nbconvert_exporter": "python",
   "pygments_lexer": "ipython3",
   "version": "3.6.9"
  }
 },
 "nbformat": 4,
 "nbformat_minor": 2
}
