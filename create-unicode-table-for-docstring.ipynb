{
 "cells": [
  {
   "cell_type": "code",
   "execution_count": 10,
   "metadata": {},
   "outputs": [],
   "source": [
    "from pprint import pprint"
   ]
  },
  {
   "cell_type": "code",
   "execution_count": 1,
   "metadata": {},
   "outputs": [],
   "source": [
    "table = [\n",
    "    ('<comm_connection_string>', '::= \"comm:\"<port_id>[<options_list>];'),\n",
    "    ('<port_id>', '::= string of alphanumeric characters'),\n",
    "    ('<options_list>', (\n",
    "        '::= *(<baud_rate_string>|<bitsperchar>|<stopbits>|<stopbits>|<parity>|<blocking>|<autocts>|<autorts>);\\n'\n",
    "        '; if an option duplicates a previous option in the option list, that option overrides the previous option'\n",
    "    )),\n",
    "    ('<baud_rate_string>', '::= \";baudrate=\"<baud_rate>'),\n",
    "    ('<baud_rate>', '::= string of digits'),\n",
    "    ('<bitsperchar>', '::= \";bitsperchar=\"<bit_value>'),\n",
    "    ('<bit_value>', '::= \"7\" | \"8\"'),\n",
    "    ('<stopbits>', '::= \";stopbits=\"<stop_value>'),\n",
    "    ('<stop_value>', '::= \"1\" | \"2\"'),\n",
    "    ('<parity>', '::= \";parity=\"<parity_value>'),\n",
    "    ('<parity_value>', '::= \"even\" | \"odd\" | \"none\"'),\n",
    "    ('<blocking>', '::= \";blocking=\"<on_off>'),\n",
    "    ('<autocts>', '::= \";autocts=\"<on_off>'),\n",
    "    ('<autorts>', '::= \";autorts=\"<on_off>'),\n",
    "    ('<on_off>', '::= \"on\" | \"off\"'),\n",
    "]"
   ]
  },
  {
   "cell_type": "code",
   "execution_count": 2,
   "metadata": {},
   "outputs": [],
   "source": [
    "prefix = ' * '\n",
    "column_sep = ' | '"
   ]
  },
  {
   "cell_type": "code",
   "execution_count": 3,
   "metadata": {},
   "outputs": [],
   "source": [
    "max_width_for_each_cols = []\n",
    "for row in table:\n",
    "    for col_num, cell in enumerate(row):\n",
    "        cell_lines = cell.split('\\n')\n",
    "        max_line_length = max(map(lambda x: len(x), cell_lines))\n",
    "        if not len(max_width_for_each_cols) > col_num:\n",
    "            max_width_for_each_cols.append(max_line_length)\n",
    "        else:\n",
    "            current_column_length = max_width_for_each_cols[col_num]\n",
    "            max_width_for_each_cols[col_num] = max(current_column_length, max_line_length)"
   ]
  },
  {
   "cell_type": "code",
   "execution_count": 4,
   "metadata": {},
   "outputs": [
    {
     "data": {
      "text/plain": [
       "[24, 105]"
      ]
     },
     "execution_count": 4,
     "metadata": {},
     "output_type": "execute_result"
    }
   ],
   "source": [
    "max_width_for_each_cols"
   ]
  },
  {
   "cell_type": "code",
   "execution_count": 5,
   "metadata": {},
   "outputs": [
    {
     "data": {
      "text/plain": [
       "[1, 1, 2, 1, 1, 1, 1, 1, 1, 1, 1, 1, 1, 1, 1]"
      ]
     },
     "execution_count": 5,
     "metadata": {},
     "output_type": "execute_result"
    }
   ],
   "source": [
    "max_line_for_each_rows = []\n",
    "for row in table:\n",
    "    max_num_lines = max(map(lambda x: len(x.split('\\n')), row))\n",
    "    max_line_for_each_rows.append(max_num_lines)\n",
    "\n",
    "max_line_for_each_rows"
   ]
  },
  {
   "cell_type": "code",
   "execution_count": 29,
   "metadata": {},
   "outputs": [],
   "source": [
    "width_pad = '─'\n",
    "top_prefix = '┌─'\n",
    "top_suffix = '─┐'\n",
    "top_cell_sep = '─┬─'\n",
    "\n",
    "cell_prefix = '| '\n",
    "cell_suffix = ' |'\n",
    "cell_sep = ' | '\n",
    "\n",
    "row_sep_prefix = '├─'\n",
    "row_sep_suffix = '─┤'\n",
    "row_cell_sep = '─┼─'\n",
    "\n",
    "bottom_prefix = '└─'\n",
    "bottom_suffix = '─┘'\n",
    "bottom_cell_sep = '─┴─'"
   ]
  },
  {
   "cell_type": "code",
   "execution_count": 32,
   "metadata": {},
   "outputs": [
    {
     "name": "stdout",
     "output_type": "stream",
     "text": [
      "┌──────────────────────────┬───────────────────────────────────────────────────────────────────────────────────────────────────────────┐\n",
      "| <comm_connection_string> | ::= \"comm:\"<port_id>[<options_list>];                                                                     |\n",
      "├──────────────────────────┼───────────────────────────────────────────────────────────────────────────────────────────────────────────┤\n",
      "| <port_id>                | ::= string of alphanumeric characters                                                                     |\n",
      "├──────────────────────────┼───────────────────────────────────────────────────────────────────────────────────────────────────────────┤\n",
      "| <options_list>           | ::= *(<baud_rate_string>|<bitsperchar>|<stopbits>|<stopbits>|<parity>|<blocking>|<autocts>|<autorts>);    |\n",
      "|                          | ; if an option duplicates a previous option in the option list, that option overrides the previous option |\n",
      "├──────────────────────────┼───────────────────────────────────────────────────────────────────────────────────────────────────────────┤\n",
      "| <baud_rate_string>       | ::= \";baudrate=\"<baud_rate>                                                                               |\n",
      "├──────────────────────────┼───────────────────────────────────────────────────────────────────────────────────────────────────────────┤\n",
      "| <baud_rate>              | ::= string of digits                                                                                      |\n",
      "├──────────────────────────┼───────────────────────────────────────────────────────────────────────────────────────────────────────────┤\n",
      "| <bitsperchar>            | ::= \";bitsperchar=\"<bit_value>                                                                            |\n",
      "├──────────────────────────┼───────────────────────────────────────────────────────────────────────────────────────────────────────────┤\n",
      "| <bit_value>              | ::= \"7\" | \"8\"                                                                                             |\n",
      "├──────────────────────────┼───────────────────────────────────────────────────────────────────────────────────────────────────────────┤\n",
      "| <stopbits>               | ::= \";stopbits=\"<stop_value>                                                                              |\n",
      "├──────────────────────────┼───────────────────────────────────────────────────────────────────────────────────────────────────────────┤\n",
      "| <stop_value>             | ::= \"1\" | \"2\"                                                                                             |\n",
      "├──────────────────────────┼───────────────────────────────────────────────────────────────────────────────────────────────────────────┤\n",
      "| <parity>                 | ::= \";parity=\"<parity_value>                                                                              |\n",
      "├──────────────────────────┼───────────────────────────────────────────────────────────────────────────────────────────────────────────┤\n",
      "| <parity_value>           | ::= \"even\" | \"odd\" | \"none\"                                                                               |\n",
      "├──────────────────────────┼───────────────────────────────────────────────────────────────────────────────────────────────────────────┤\n",
      "| <blocking>               | ::= \";blocking=\"<on_off>                                                                                  |\n",
      "├──────────────────────────┼───────────────────────────────────────────────────────────────────────────────────────────────────────────┤\n",
      "| <autocts>                | ::= \";autocts=\"<on_off>                                                                                   |\n",
      "├──────────────────────────┼───────────────────────────────────────────────────────────────────────────────────────────────────────────┤\n",
      "| <autorts>                | ::= \";autorts=\"<on_off>                                                                                   |\n",
      "├──────────────────────────┼───────────────────────────────────────────────────────────────────────────────────────────────────────────┤\n",
      "| <on_off>                 | ::= \"on\" | \"off\"                                                                                          |\n",
      "└──────────────────────────┴───────────────────────────────────────────────────────────────────────────────────────────────────────────┘\n"
     ]
    }
   ],
   "source": [
    "unicode_table_lines = []\n",
    "\n",
    "top_line = top_prefix + top_cell_sep.join(list(map(lambda col_width: width_pad * col_width, max_width_for_each_cols))) + top_suffix\n",
    "unicode_table_lines.append(top_line)\n",
    "\n",
    "for row_idx in range(len(table)):\n",
    "    row = table[row_idx]\n",
    "    # print('row:', row)\n",
    "\n",
    "    splited_cells = [] # a table without any newline chars in cell - need to be transpose\n",
    "    for col_idx in range(len(row)):\n",
    "        cell = row[col_idx]\n",
    "        splited_cells.append([]) # append a new col\n",
    "        cell_lines = cell.split('\\n')\n",
    "\n",
    "        for i in range(max_line_for_each_rows[row_idx]):\n",
    "            if i < len(cell_lines):\n",
    "                line = cell_lines[i]\n",
    "                line = line + (' ' * (max_width_for_each_cols[col_idx] - len(line)))\n",
    "            else:\n",
    "                line = ' ' * max_width_for_each_cols[col_idx]\n",
    "            # print(repr(line))\n",
    "            splited_cells[col_idx].append(line)\n",
    "        # print(col_idx, *cell_lines)\n",
    "    # print('splited_cells:', splited_cells)\n",
    "    \n",
    "    # transpose the `splited_cells` table\n",
    "    num_cols = len(splited_cells)\n",
    "    num_rows = len(splited_cells[0])\n",
    "    \n",
    "    row_mini_table = []\n",
    "    for y in range(num_rows):\n",
    "        row_mini_table.append([])\n",
    "        for x in range(num_cols):\n",
    "            row_mini_table[y].append(splited_cells[x][y])\n",
    "    for _row in row_mini_table:\n",
    "        line = cell_sep.join(_row)\n",
    "        table_line = cell_prefix + cell_sep.join(_row) + cell_suffix\n",
    "        unicode_table_lines.append(table_line)\n",
    "\n",
    "    if row_idx < (len(table) - 1):\n",
    "        row_sep_line = row_sep_prefix + row_cell_sep.join(list(map(lambda col_width: width_pad * col_width, max_width_for_each_cols))) + row_sep_suffix\n",
    "        unicode_table_lines.append(row_sep_line)\n",
    "\n",
    "bottom_line = bottom_prefix + bottom_cell_sep.join(list(map(lambda col_width: width_pad * col_width, max_width_for_each_cols))) + bottom_suffix\n",
    "unicode_table_lines.append(bottom_line)\n",
    "\n",
    "for l in unicode_table_lines:\n",
    "    print(l)"
   ]
  },
  {
   "cell_type": "code",
   "execution_count": 33,
   "metadata": {},
   "outputs": [
    {
     "name": "stdout",
     "output_type": "stream",
     "text": [
      " * ┌──────────────────────────┬───────────────────────────────────────────────────────────────────────────────────────────────────────────┐\n",
      " * | <comm_connection_string> | ::= \"comm:\"<port_id>[<options_list>];                                                                     |\n",
      " * ├──────────────────────────┼───────────────────────────────────────────────────────────────────────────────────────────────────────────┤\n",
      " * | <port_id>                | ::= string of alphanumeric characters                                                                     |\n",
      " * ├──────────────────────────┼───────────────────────────────────────────────────────────────────────────────────────────────────────────┤\n",
      " * | <options_list>           | ::= *(<baud_rate_string>|<bitsperchar>|<stopbits>|<stopbits>|<parity>|<blocking>|<autocts>|<autorts>);    |\n",
      " * |                          | ; if an option duplicates a previous option in the option list, that option overrides the previous option |\n",
      " * ├──────────────────────────┼───────────────────────────────────────────────────────────────────────────────────────────────────────────┤\n",
      " * | <baud_rate_string>       | ::= \";baudrate=\"<baud_rate>                                                                               |\n",
      " * ├──────────────────────────┼───────────────────────────────────────────────────────────────────────────────────────────────────────────┤\n",
      " * | <baud_rate>              | ::= string of digits                                                                                      |\n",
      " * ├──────────────────────────┼───────────────────────────────────────────────────────────────────────────────────────────────────────────┤\n",
      " * | <bitsperchar>            | ::= \";bitsperchar=\"<bit_value>                                                                            |\n",
      " * ├──────────────────────────┼───────────────────────────────────────────────────────────────────────────────────────────────────────────┤\n",
      " * | <bit_value>              | ::= \"7\" | \"8\"                                                                                             |\n",
      " * ├──────────────────────────┼───────────────────────────────────────────────────────────────────────────────────────────────────────────┤\n",
      " * | <stopbits>               | ::= \";stopbits=\"<stop_value>                                                                              |\n",
      " * ├──────────────────────────┼───────────────────────────────────────────────────────────────────────────────────────────────────────────┤\n",
      " * | <stop_value>             | ::= \"1\" | \"2\"                                                                                             |\n",
      " * ├──────────────────────────┼───────────────────────────────────────────────────────────────────────────────────────────────────────────┤\n",
      " * | <parity>                 | ::= \";parity=\"<parity_value>                                                                              |\n",
      " * ├──────────────────────────┼───────────────────────────────────────────────────────────────────────────────────────────────────────────┤\n",
      " * | <parity_value>           | ::= \"even\" | \"odd\" | \"none\"                                                                               |\n",
      " * ├──────────────────────────┼───────────────────────────────────────────────────────────────────────────────────────────────────────────┤\n",
      " * | <blocking>               | ::= \";blocking=\"<on_off>                                                                                  |\n",
      " * ├──────────────────────────┼───────────────────────────────────────────────────────────────────────────────────────────────────────────┤\n",
      " * | <autocts>                | ::= \";autocts=\"<on_off>                                                                                   |\n",
      " * ├──────────────────────────┼───────────────────────────────────────────────────────────────────────────────────────────────────────────┤\n",
      " * | <autorts>                | ::= \";autorts=\"<on_off>                                                                                   |\n",
      " * ├──────────────────────────┼───────────────────────────────────────────────────────────────────────────────────────────────────────────┤\n",
      " * | <on_off>                 | ::= \"on\" | \"off\"                                                                                          |\n",
      " * └──────────────────────────┴───────────────────────────────────────────────────────────────────────────────────────────────────────────┘\n"
     ]
    }
   ],
   "source": [
    "for l in unicode_table_lines:\n",
    "    print(prefix + l)"
   ]
  },
  {
   "cell_type": "code",
   "execution_count": 25,
   "metadata": {},
   "outputs": [
    {
     "name": "stdout",
     "output_type": "stream",
     "text": [
      "'  aaasf asf   '\n"
     ]
    }
   ],
   "source": [
    "x = '  aaasf asf   '\n",
    "print(repr(x))"
   ]
  },
  {
   "cell_type": "code",
   "execution_count": 26,
   "metadata": {},
   "outputs": [
    {
     "data": {
      "text/plain": [
       "\"'  aaasf asf'\""
      ]
     },
     "execution_count": 26,
     "metadata": {},
     "output_type": "execute_result"
    }
   ],
   "source": [
    "repr(x.rstrip())"
   ]
  }
 ],
 "metadata": {
  "kernelspec": {
   "display_name": "Python 3.7.6 64-bit",
   "language": "python",
   "name": "python37664bitcdb04a1f472b43268730f4ef6a30ceb5"
  },
  "language_info": {
   "codemirror_mode": {
    "name": "ipython",
    "version": 3
   },
   "file_extension": ".py",
   "mimetype": "text/x-python",
   "name": "python",
   "nbconvert_exporter": "python",
   "pygments_lexer": "ipython3",
   "version": "3.7.6"
  }
 },
 "nbformat": 4,
 "nbformat_minor": 2
}
